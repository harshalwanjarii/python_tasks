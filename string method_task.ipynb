{
 "cells": [
  {
   "cell_type": "code",
   "execution_count": 2,
   "id": "5a61d7a0",
   "metadata": {},
   "outputs": [],
   "source": [
    "text = \"Hello, World!\""
   ]
  },
  {
   "cell_type": "code",
   "execution_count": 3,
   "id": "c037f490",
   "metadata": {},
   "outputs": [
    {
     "name": "stdout",
     "output_type": "stream",
     "text": [
      "Uppercase: HELLO, WORLD!\n",
      "Lowercase: hello, world!\n"
     ]
    }
   ],
   "source": [
    "# 1. Case Conversion\n",
    "print(\"Uppercase:\", text.upper())\n",
    "print(\"Lowercase:\", text.lower())"
   ]
  },
  {
   "cell_type": "code",
   "execution_count": 4,
   "id": "eb81518f",
   "metadata": {},
   "outputs": [
    {
     "name": "stdout",
     "output_type": "stream",
     "text": [
      "uppercase: HELLO, WORLD!\n"
     ]
    }
   ],
   "source": [
    "print(\"uppercase:\", text.upper())"
   ]
  },
  {
   "cell_type": "code",
   "execution_count": 6,
   "id": "3f4ea62b",
   "metadata": {},
   "outputs": [
    {
     "name": "stdout",
     "output_type": "stream",
     "text": [
      "Stripped: Trim me!\n"
     ]
    }
   ],
   "source": [
    "# 2. Stripping Whitespace\n",
    "text_with_whitespace = \"   Trim me!   \"\n",
    "print(\"Stripped:\", text_with_whitespace.strip())"
   ]
  },
  {
   "cell_type": "code",
   "execution_count": 8,
   "id": "3f5d7d49",
   "metadata": {},
   "outputs": [
    {
     "name": "stdout",
     "output_type": "stream",
     "text": [
      "stripped: trim me!\n"
     ]
    }
   ],
   "source": [
    "text1 = \"       trim me!   \"\n",
    "print(\"stripped:\", text1.strip())"
   ]
  },
  {
   "cell_type": "code",
   "execution_count": 9,
   "id": "6e5364c2",
   "metadata": {},
   "outputs": [
    {
     "name": "stdout",
     "output_type": "stream",
     "text": [
      "Split: ['Hello', ' World!']\n",
      "Joined: Hello- World!\n"
     ]
    }
   ],
   "source": [
    "# 3. Splitting and Joining\n",
    "words = text.split(\",\")\n",
    "print(\"Split:\", words)\n",
    "joined_text = \"-\".join(words)\n",
    "print(\"Joined:\", joined_text)"
   ]
  },
  {
   "cell_type": "code",
   "execution_count": 10,
   "id": "76d2d3ca",
   "metadata": {},
   "outputs": [
    {
     "name": "stdout",
     "output_type": "stream",
     "text": [
      "split: ['Hello', ' World!']\n",
      "joined: Hello- World!\n"
     ]
    }
   ],
   "source": [
    "words = text.split(\",\")\n",
    "print(\"split:\",words)\n",
    "joined_text = \"-\".join(words)\n",
    "print(\"joined:\", joined_text)"
   ]
  },
  {
   "cell_type": "code",
   "execution_count": 11,
   "id": "9348219e",
   "metadata": {},
   "outputs": [
    {
     "name": "stdout",
     "output_type": "stream",
     "text": [
      "Replaced: Hello, Python!\n"
     ]
    }
   ],
   "source": [
    "# 4. Replacing Substrings\n",
    "new_text = text.replace(\"World\", \"Python\")\n",
    "print(\"Replaced:\", new_text)"
   ]
  },
  {
   "cell_type": "code",
   "execution_count": 18,
   "id": "f74c28df",
   "metadata": {},
   "outputs": [
    {
     "name": "stdout",
     "output_type": "stream",
     "text": [
      "replaced: Hello, World!\n"
     ]
    }
   ],
   "source": [
    "text2 = text.replace(\"world\", \"python\")\n",
    "print(\"replaced:\", text2)"
   ]
  },
  {
   "cell_type": "code",
   "execution_count": 19,
   "id": "af88f2df",
   "metadata": {},
   "outputs": [
    {
     "name": "stdout",
     "output_type": "stream",
     "text": [
      "Find 'World': 7\n",
      "Find 'Universe': -1\n"
     ]
    }
   ],
   "source": [
    "# 5. Finding Substrings\n",
    "index = text.find(\"World\")\n",
    "print(\"Find 'World':\", index)\n",
    "index_not_found = text.find(\"Universe\")\n",
    "print(\"Find 'Universe':\", index_not_found)"
   ]
  },
  {
   "cell_type": "code",
   "execution_count": 21,
   "id": "ead7b5ad",
   "metadata": {},
   "outputs": [
    {
     "name": "stdout",
     "output_type": "stream",
     "text": [
      "Find 'World': 7\n",
      "Find 'Universe': -1\n"
     ]
    }
   ],
   "source": [
    "index = text.find(\"World\")\n",
    "print(\"Find 'World':\", index)\n",
    "index_not_found = text.find(\"Universe\")\n",
    "print(\"Find 'Universe':\", index_not_found)"
   ]
  },
  {
   "cell_type": "code",
   "execution_count": 22,
   "id": "ca7adbbe",
   "metadata": {},
   "outputs": [
    {
     "name": "stdout",
     "output_type": "stream",
     "text": [
      "Starts with 'Hello': True\n",
      "Ends with '!': True\n",
      "Is alphanumeric: False\n"
     ]
    }
   ],
   "source": [
    "# 6. Checking String Content\n",
    "print(\"Starts with 'Hello':\", text.startswith(\"Hello\"))\n",
    "print(\"Ends with '!':\", text.endswith(\"!\"))\n",
    "print(\"Is alphanumeric:\", text.isalnum())"
   ]
  },
  {
   "cell_type": "code",
   "execution_count": 23,
   "id": "1961dc3e",
   "metadata": {},
   "outputs": [
    {
     "name": "stdout",
     "output_type": "stream",
     "text": [
      "Start with 'Hello': True\n",
      "Ends with '!': True\n",
      "Is alphanumeric: False\n"
     ]
    }
   ],
   "source": [
    "print(\"Start with 'Hello':\", text.startswith(\"Hello\"))\n",
    "print(\"Ends with '!':\", text.endswith(\"!\"))\n",
    "print(\"Is alphanumeric:\", text.isalnum())"
   ]
  },
  {
   "cell_type": "code",
   "execution_count": 26,
   "id": "6787258e",
   "metadata": {},
   "outputs": [
    {
     "name": "stdout",
     "output_type": "stream",
     "text": [
      "Formatted: My name is Alice and I am 30 years old.\n"
     ]
    }
   ],
   "source": [
    "# 7. String Formatting\n",
    "name = \"Alice\"\n",
    "age = 30\n",
    "formatted_text = \"My name is {} and I am {} years old.\".format(name,age)\n",
    "print(\"Formatted:\", formatted_text)"
   ]
  },
  {
   "cell_type": "code",
   "execution_count": 27,
   "id": "28f87c96",
   "metadata": {},
   "outputs": [
    {
     "name": "stdout",
     "output_type": "stream",
     "text": [
      "Formatted: My name is harshal and I am 29 years old. \n"
     ]
    }
   ],
   "source": [
    "name = \"harshal\"\n",
    "age = \"29\"\n",
    "formatted_text = \"My name is {} and I am {} years old. \".format(name,age)\n",
    "print(\"Formatted:\", formatted_text)"
   ]
  },
  {
   "cell_type": "code",
   "execution_count": 28,
   "id": "0b7a598c",
   "metadata": {},
   "outputs": [
    {
     "name": "stdout",
     "output_type": "stream",
     "text": [
      "f-string: My name is harshal and I am 29 years old.\n"
     ]
    }
   ],
   "source": [
    "# 8. f-strings (Python 3.6+)\n",
    "formatted_text_f = f\"My name is {name} and I am {age} years old.\"\n",
    "print(\"f-string:\", formatted_text_f)"
   ]
  },
  {
   "cell_type": "code",
   "execution_count": 29,
   "id": "32af9a49",
   "metadata": {},
   "outputs": [
    {
     "name": "stdout",
     "output_type": "stream",
     "text": [
      "Count of 'l': 3\n"
     ]
    }
   ],
   "source": [
    "# 9. Counting Occurrences\n",
    "count_l = text.count(\"l\")\n",
    "print(\"Count of 'l':\", count_l)"
   ]
  },
  {
   "cell_type": "code",
   "execution_count": 30,
   "id": "0f1e81e4",
   "metadata": {},
   "outputs": [
    {
     "name": "stdout",
     "output_type": "stream",
     "text": [
      "Is string: True\n"
     ]
    }
   ],
   "source": [
    "# 10. Checking String Type\n",
    "print(\"Is string:\", isinstance(text, str))"
   ]
  },
  {
   "cell_type": "code",
   "execution_count": null,
   "id": "b6997d8b",
   "metadata": {},
   "outputs": [],
   "source": []
  }
 ],
 "metadata": {
  "kernelspec": {
   "display_name": "Python 3 (ipykernel)",
   "language": "python",
   "name": "python3"
  },
  "language_info": {
   "codemirror_mode": {
    "name": "ipython",
    "version": 3
   },
   "file_extension": ".py",
   "mimetype": "text/x-python",
   "name": "python",
   "nbconvert_exporter": "python",
   "pygments_lexer": "ipython3",
   "version": "3.9.12"
  }
 },
 "nbformat": 4,
 "nbformat_minor": 5
}
