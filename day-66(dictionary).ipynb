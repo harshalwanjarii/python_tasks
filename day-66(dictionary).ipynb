{
 "cells": [
  {
   "cell_type": "code",
   "execution_count": 2,
   "id": "72085865",
   "metadata": {},
   "outputs": [
    {
     "data": {
      "text/plain": [
       "dict"
      ]
     },
     "execution_count": 2,
     "metadata": {},
     "output_type": "execute_result"
    }
   ],
   "source": [
    "d1 = {}\n",
    "type(d1)"
   ]
  },
  {
   "cell_type": "code",
   "execution_count": 4,
   "id": "2871567d",
   "metadata": {},
   "outputs": [],
   "source": [
    "d2 = {'age' : '20', 'name' : 'user1', 'address' : 'wardhaman nagar'}"
   ]
  },
  {
   "cell_type": "code",
   "execution_count": 5,
   "id": "db89eb0e",
   "metadata": {},
   "outputs": [
    {
     "data": {
      "text/plain": [
       "{'age': '20', 'name': 'user1', 'address': 'wardhaman nagar'}"
      ]
     },
     "execution_count": 5,
     "metadata": {},
     "output_type": "execute_result"
    }
   ],
   "source": [
    "d2"
   ]
  },
  {
   "cell_type": "code",
   "execution_count": 6,
   "id": "a9dedbfd",
   "metadata": {},
   "outputs": [],
   "source": [
    "d3 = {'age': '21', 'name': 'abc', 'age':'22'}"
   ]
  },
  {
   "cell_type": "code",
   "execution_count": 7,
   "id": "740359fa",
   "metadata": {},
   "outputs": [
    {
     "data": {
      "text/plain": [
       "{'age': '22', 'name': 'abc'}"
      ]
     },
     "execution_count": 7,
     "metadata": {},
     "output_type": "execute_result"
    }
   ],
   "source": [
    "d3"
   ]
  },
  {
   "cell_type": "code",
   "execution_count": 8,
   "id": "cb04ee2d",
   "metadata": {},
   "outputs": [
    {
     "data": {
      "text/plain": [
       "dict_items([('age', '20'), ('name', 'user1'), ('address', 'wardhaman nagar')])"
      ]
     },
     "execution_count": 8,
     "metadata": {},
     "output_type": "execute_result"
    }
   ],
   "source": [
    "d2.items()"
   ]
  },
  {
   "cell_type": "code",
   "execution_count": 9,
   "id": "285bd0fd",
   "metadata": {},
   "outputs": [],
   "source": [
    "lt1 = list(d2.items())"
   ]
  },
  {
   "cell_type": "code",
   "execution_count": 10,
   "id": "47af8db8",
   "metadata": {},
   "outputs": [
    {
     "data": {
      "text/plain": [
       "[('age', '20'), ('name', 'user1'), ('address', 'wardhaman nagar')]"
      ]
     },
     "execution_count": 10,
     "metadata": {},
     "output_type": "execute_result"
    }
   ],
   "source": [
    "lt1"
   ]
  },
  {
   "cell_type": "markdown",
   "id": "6fbdbe32",
   "metadata": {},
   "source": [
    "# 1. Dictionary clear() Method"
   ]
  },
  {
   "cell_type": "code",
   "execution_count": 11,
   "id": "08f60d34",
   "metadata": {},
   "outputs": [
    {
     "name": "stdout",
     "output_type": "stream",
     "text": [
      "{}\n"
     ]
    }
   ],
   "source": [
    "my_dict = {'1': 'Geeks', '2': 'For', '3': 'Geeks'}\n",
    "my_dict.clear()\n",
    "print(my_dict)"
   ]
  },
  {
   "cell_type": "markdown",
   "id": "a2391f99",
   "metadata": {},
   "source": [
    "# 2. Dictionary get() Method"
   ]
  },
  {
   "cell_type": "code",
   "execution_count": 15,
   "id": "90b9bc2e",
   "metadata": {},
   "outputs": [
    {
     "name": "stdout",
     "output_type": "stream",
     "text": [
      "Ram\n",
      "None\n"
     ]
    }
   ],
   "source": [
    "d = {'name' : 'Ram', 'age': '25','country':'India'}\n",
    "print(d.get('name'))\n",
    "print(d.get('gender'))"
   ]
  },
  {
   "cell_type": "markdown",
   "id": "183c73b4",
   "metadata": {},
   "source": [
    "# 3. Dictionary items() Method"
   ]
  },
  {
   "cell_type": "code",
   "execution_count": 22,
   "id": "18fc6308",
   "metadata": {},
   "outputs": [
    {
     "name": "stdout",
     "output_type": "stream",
     "text": [
      "India\n",
      "country\n"
     ]
    }
   ],
   "source": [
    "d = {'name' : 'Ram', 'age': '25','country':'India'}\n",
    "print(list(d.items())[2][1])\n",
    "print(list(d.items())[2][0])"
   ]
  },
  {
   "cell_type": "markdown",
   "id": "fab1d2a4",
   "metadata": {},
   "source": [
    "# 4. Dictionary keys() Method"
   ]
  },
  {
   "cell_type": "code",
   "execution_count": 23,
   "id": "f61a546b",
   "metadata": {},
   "outputs": [
    {
     "name": "stdout",
     "output_type": "stream",
     "text": [
      "['Name', 'Age', 'Country']\n"
     ]
    }
   ],
   "source": [
    "d = {'Name': 'Ram', 'Age': '19', 'Country': 'India'}\n",
    "print(list(d.keys()))"
   ]
  },
  {
   "cell_type": "markdown",
   "id": "24aca3ba",
   "metadata": {},
   "source": [
    "# 5. Dictionary update() Method"
   ]
  },
  {
   "cell_type": "code",
   "execution_count": 25,
   "id": "9b603289",
   "metadata": {},
   "outputs": [
    {
     "name": "stdout",
     "output_type": "stream",
     "text": [
      "{'Name': 'Neha', 'Age': '20', 'Country': 'India'}\n"
     ]
    }
   ],
   "source": [
    "d1 = {'Name': 'Ram', 'Age': '19', 'Country': 'India'}\n",
    "d2 = {'Name': 'Neha', 'Age': '20'}\n",
    "\n",
    "d1.update(d2)\n",
    "print(d1)"
   ]
  },
  {
   "cell_type": "markdown",
   "id": "29013a6e",
   "metadata": {},
   "source": [
    "# 6. Dictionary values() Method"
   ]
  },
  {
   "cell_type": "code",
   "execution_count": 27,
   "id": "5914d5fd",
   "metadata": {},
   "outputs": [
    {
     "name": "stdout",
     "output_type": "stream",
     "text": [
      "['Ram', '19', 'India']\n"
     ]
    }
   ],
   "source": [
    "d = {'Name': 'Ram', 'Age': '19', 'Country': 'India'}\n",
    "print(list(d.values()))\n"
   ]
  },
  {
   "cell_type": "markdown",
   "id": "b37bcb38",
   "metadata": {},
   "source": [
    "# 7. Dictionary pop() Method"
   ]
  },
  {
   "cell_type": "code",
   "execution_count": 28,
   "id": "2fdf3d68",
   "metadata": {},
   "outputs": [
    {
     "name": "stdout",
     "output_type": "stream",
     "text": [
      "{'Name': 'Ram', 'Country': 'India'}\n"
     ]
    }
   ],
   "source": [
    "d = {'Name': 'Ram', 'Age': '19', 'Country': 'India'}\n",
    "d.pop('Age')\n",
    "print(d)\n"
   ]
  },
  {
   "cell_type": "markdown",
   "id": "d26bddd7",
   "metadata": {},
   "source": [
    "# 8. Dictionary popitem() Method"
   ]
  },
  {
   "cell_type": "code",
   "execution_count": 29,
   "id": "ca3f09d9",
   "metadata": {},
   "outputs": [
    {
     "name": "stdout",
     "output_type": "stream",
     "text": [
      "('Country', 'India')\n",
      "('Age', '19')\n"
     ]
    }
   ],
   "source": [
    "d = {'Name': 'Ram', 'Age': '19', 'Country': 'India'}\n",
    "val = d.popitem()\n",
    "print(val)\n",
    "\n",
    "val = d.popitem()\n",
    "print(val)\n"
   ]
  },
  {
   "cell_type": "code",
   "execution_count": null,
   "id": "71d873a7",
   "metadata": {},
   "outputs": [],
   "source": []
  }
 ],
 "metadata": {
  "kernelspec": {
   "display_name": "Python 3 (ipykernel)",
   "language": "python",
   "name": "python3"
  },
  "language_info": {
   "codemirror_mode": {
    "name": "ipython",
    "version": 3
   },
   "file_extension": ".py",
   "mimetype": "text/x-python",
   "name": "python",
   "nbconvert_exporter": "python",
   "pygments_lexer": "ipython3",
   "version": "3.9.12"
  }
 },
 "nbformat": 4,
 "nbformat_minor": 5
}
