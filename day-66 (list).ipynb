{
 "cells": [
  {
   "cell_type": "markdown",
   "id": "972f27e8",
   "metadata": {},
   "source": [
    "# append(): Adds an element to the end of the list."
   ]
  },
  {
   "cell_type": "code",
   "execution_count": 2,
   "id": "b8827ff2",
   "metadata": {},
   "outputs": [],
   "source": [
    "a = [1,2,3,4]"
   ]
  },
  {
   "cell_type": "code",
   "execution_count": 3,
   "id": "1ab9a663",
   "metadata": {},
   "outputs": [
    {
     "data": {
      "text/plain": [
       "[1, 2, 3, 4]"
      ]
     },
     "execution_count": 3,
     "metadata": {},
     "output_type": "execute_result"
    }
   ],
   "source": [
    "a"
   ]
  },
  {
   "cell_type": "code",
   "execution_count": 4,
   "id": "22c68ff6",
   "metadata": {},
   "outputs": [],
   "source": [
    "a.append(5)\n",
    "\n",
    "# Add 5 to the end of the list"
   ]
  },
  {
   "cell_type": "code",
   "execution_count": 5,
   "id": "f74e09c9",
   "metadata": {},
   "outputs": [
    {
     "name": "stdout",
     "output_type": "stream",
     "text": [
      "[1, 2, 3, 4, 5]\n"
     ]
    }
   ],
   "source": [
    "print(a)"
   ]
  },
  {
   "cell_type": "markdown",
   "id": "374356ec",
   "metadata": {},
   "source": [
    "# copy(): Returns a shallow copy of the list."
   ]
  },
  {
   "cell_type": "code",
   "execution_count": 6,
   "id": "a14a251e",
   "metadata": {},
   "outputs": [],
   "source": [
    "#Syntax: list_name.copy()"
   ]
  },
  {
   "cell_type": "code",
   "execution_count": 7,
   "id": "acac5345",
   "metadata": {},
   "outputs": [
    {
     "name": "stdout",
     "output_type": "stream",
     "text": [
      "[1, 2, 3]\n"
     ]
    }
   ],
   "source": [
    "a = [1,2,3]\n",
    "b = a.copy()\n",
    "print(b)"
   ]
  },
  {
   "cell_type": "markdown",
   "id": "711f3f0f",
   "metadata": {},
   "source": [
    "# clear(): Removes all elements from the list."
   ]
  },
  {
   "cell_type": "code",
   "execution_count": 8,
   "id": "ebffb14d",
   "metadata": {},
   "outputs": [
    {
     "name": "stdout",
     "output_type": "stream",
     "text": [
      "[]\n"
     ]
    }
   ],
   "source": [
    "a = [1,2,3]\n",
    "a.clear()\n",
    "# Remove all elements from the list\n",
    "print(a)"
   ]
  },
  {
   "cell_type": "markdown",
   "id": "5958ff2e",
   "metadata": {},
   "source": [
    "# count(): Returns the number of times a specified element appears in the list."
   ]
  },
  {
   "cell_type": "code",
   "execution_count": 9,
   "id": "e4a52cd3",
   "metadata": {},
   "outputs": [
    {
     "name": "stdout",
     "output_type": "stream",
     "text": [
      "1\n"
     ]
    }
   ],
   "source": [
    "a = [1,2,3,3]\n",
    "# Count occurrences of numbers in the list\n",
    "\n",
    "print(a.count(2))"
   ]
  },
  {
   "cell_type": "code",
   "execution_count": 10,
   "id": "352e6618",
   "metadata": {},
   "outputs": [
    {
     "name": "stdout",
     "output_type": "stream",
     "text": [
      "2\n"
     ]
    }
   ],
   "source": [
    "print(a.count(3))"
   ]
  },
  {
   "cell_type": "markdown",
   "id": "950995d7",
   "metadata": {},
   "source": [
    "# extend(): Adds elements from another list to the end of the current list."
   ]
  },
  {
   "cell_type": "code",
   "execution_count": 15,
   "id": "eecd99cc",
   "metadata": {},
   "outputs": [
    {
     "name": "stdout",
     "output_type": "stream",
     "text": [
      "[1, 2, 3, 4]\n"
     ]
    }
   ],
   "source": [
    "a = [1,2]\n",
    "\n",
    "# Extend list a by adding elements from list [3, 4]\n",
    "\n",
    "a.extend([3,4])\n",
    "print(a)"
   ]
  },
  {
   "cell_type": "code",
   "execution_count": 16,
   "id": "d7bea30f",
   "metadata": {},
   "outputs": [],
   "source": [
    "#Syntax: list_name.extend(iterable)"
   ]
  },
  {
   "cell_type": "markdown",
   "id": "73b48c15",
   "metadata": {},
   "source": [
    "# index(): Returns the index of the first occurrence of a specified element."
   ]
  },
  {
   "cell_type": "code",
   "execution_count": 23,
   "id": "90b2e6ef",
   "metadata": {},
   "outputs": [
    {
     "name": "stdout",
     "output_type": "stream",
     "text": [
      "1\n"
     ]
    }
   ],
   "source": [
    "a = [1,2,3]\n",
    "\n",
    "# Find the index of 2 in the list\n",
    "print(a.index(2))"
   ]
  },
  {
   "cell_type": "markdown",
   "id": "3076987e",
   "metadata": {},
   "source": [
    "# insert(): Inserts an element at a specified position."
   ]
  },
  {
   "cell_type": "code",
   "execution_count": 33,
   "id": "f4d09800",
   "metadata": {},
   "outputs": [
    {
     "name": "stdout",
     "output_type": "stream",
     "text": [
      "[1, 3, 7]\n"
     ]
    }
   ],
   "source": [
    "a = [1,3]\n",
    "\n",
    "\n",
    "# Insert 7 at index 2\n",
    "a.insert(2,7)\n",
    "print(a)"
   ]
  },
  {
   "cell_type": "markdown",
   "id": "5d4464f4",
   "metadata": {},
   "source": [
    "# pop(): Removes and returns the element at the specified position (or the last element if no index is specified)."
   ]
  },
  {
   "cell_type": "code",
   "execution_count": 35,
   "id": "d47f0a91",
   "metadata": {},
   "outputs": [
    {
     "name": "stdout",
     "output_type": "stream",
     "text": [
      "[1, 2, 3]\n"
     ]
    }
   ],
   "source": [
    "a = [1,2,3,4]\n",
    "\n",
    "a.pop()\n",
    "print(a)"
   ]
  },
  {
   "cell_type": "markdown",
   "id": "5e2d153c",
   "metadata": {},
   "source": [
    "# remove(): Removes the first occurrence of a specified element"
   ]
  },
  {
   "cell_type": "code",
   "execution_count": 36,
   "id": "783725b7",
   "metadata": {},
   "outputs": [
    {
     "name": "stdout",
     "output_type": "stream",
     "text": [
      "[1, 2, 4, 5]\n"
     ]
    }
   ],
   "source": [
    "a = [1,2,3,4,5]\n",
    "\n",
    "a.remove(3)\n",
    "print(a)"
   ]
  },
  {
   "cell_type": "markdown",
   "id": "55af30c2",
   "metadata": {},
   "source": [
    "# reverse(): Reverses the order of the elements in the list."
   ]
  },
  {
   "cell_type": "code",
   "execution_count": 37,
   "id": "5cd82aeb",
   "metadata": {},
   "outputs": [
    {
     "name": "stdout",
     "output_type": "stream",
     "text": [
      "[7, 6, 5, 4, 3, 2, 1]\n"
     ]
    }
   ],
   "source": [
    "a = [1,2,3,4,5,6,7]\n",
    "\n",
    "a.reverse()\n",
    "print(a)"
   ]
  },
  {
   "cell_type": "markdown",
   "id": "87920410",
   "metadata": {},
   "source": [
    "# sort(): Sorts the list in ascending order (by default)."
   ]
  },
  {
   "cell_type": "code",
   "execution_count": 51,
   "id": "2b7242b6",
   "metadata": {},
   "outputs": [
    {
     "name": "stdout",
     "output_type": "stream",
     "text": [
      "[0, 1, 2, 3, 4, 5, 6, 7, 8, 9]\n"
     ]
    }
   ],
   "source": [
    "a = [8,3,6,4,1,0,5,9,2,7]\n",
    "\n",
    "a.sort()\n",
    "print(a)"
   ]
  },
  {
   "cell_type": "code",
   "execution_count": 53,
   "id": "3e62a83b",
   "metadata": {},
   "outputs": [],
   "source": [
    "l9 = ['user1', '1','']"
   ]
  },
  {
   "cell_type": "code",
   "execution_count": 54,
   "id": "723afddb",
   "metadata": {},
   "outputs": [],
   "source": [
    "l9.sort()"
   ]
  },
  {
   "cell_type": "code",
   "execution_count": 55,
   "id": "4d05dd0c",
   "metadata": {},
   "outputs": [
    {
     "data": {
      "text/plain": [
       "['', '1', 'user1']"
      ]
     },
     "execution_count": 55,
     "metadata": {},
     "output_type": "execute_result"
    }
   ],
   "source": [
    "l9"
   ]
  },
  {
   "cell_type": "markdown",
   "id": "c7a643bb",
   "metadata": {},
   "source": [
    "# List append() Method"
   ]
  },
  {
   "cell_type": "code",
   "execution_count": 1,
   "id": "179287ae",
   "metadata": {},
   "outputs": [
    {
     "name": "stdout",
     "output_type": "stream",
     "text": [
      "[2, 5, 7, 8, 9]\n"
     ]
    }
   ],
   "source": [
    "a = [2,5,7,8]\n",
    "\n",
    "# Use append() to add the element 9\n",
    "# to the end of the list\n",
    "\n",
    "a.append(9)\n",
    "print(a)"
   ]
  },
  {
   "cell_type": "markdown",
   "id": "5ec9113e",
   "metadata": {},
   "source": [
    "# 1. Appending Elements of Different Types"
   ]
  },
  {
   "cell_type": "code",
   "execution_count": 5,
   "id": "8081c1cb",
   "metadata": {},
   "outputs": [
    {
     "name": "stdout",
     "output_type": "stream",
     "text": [
      "[1, 'hello', 3.14, True]\n"
     ]
    }
   ],
   "source": [
    "a = [1, \"hello\", 3.14]\n",
    "\n",
    "a.append(True)\n",
    "print(a)\n"
   ]
  },
  {
   "cell_type": "markdown",
   "id": "55bc22b5",
   "metadata": {},
   "source": [
    "# 2. Appending List to a List"
   ]
  },
  {
   "cell_type": "code",
   "execution_count": 7,
   "id": "7e9c674a",
   "metadata": {},
   "outputs": [
    {
     "name": "stdout",
     "output_type": "stream",
     "text": [
      "[1, 2, 3, [4, 5]]\n"
     ]
    }
   ],
   "source": [
    "a = [1,2,3]\n",
    "\n",
    "a.append([4,5])\n",
    "print(a)"
   ]
  },
  {
   "cell_type": "markdown",
   "id": "669f0426",
   "metadata": {},
   "source": [
    "# List extend() Method"
   ]
  },
  {
   "cell_type": "code",
   "execution_count": 9,
   "id": "10ec73c0",
   "metadata": {},
   "outputs": [
    {
     "name": "stdout",
     "output_type": "stream",
     "text": [
      "[4, 5, 6, 7, 8, 9]\n"
     ]
    }
   ],
   "source": [
    "a = [4,5,6]\n",
    "b = [7,8,9]\n",
    "\n",
    "# Using extend() to add elements of b to a\n",
    "\n",
    "a.extend(b)\n",
    "print(a)"
   ]
  },
  {
   "cell_type": "code",
   "execution_count": 10,
   "id": "42ed482a",
   "metadata": {},
   "outputs": [
    {
     "name": "stdout",
     "output_type": "stream",
     "text": [
      "[1, 2, 3, 4, 5]\n",
      "[1, 2, 3, 4, 5]\n",
      "['a', 'b', 'c', 'd']\n"
     ]
    }
   ],
   "source": [
    "# Using a tuple\n",
    "a = [1, 2, 3]\n",
    "b = (4, 5)\n",
    "a.extend(b)\n",
    "print(a) \n",
    "\n",
    "# Using a set\n",
    "a = [1, 2, 3]\n",
    "b = {4, 5}\n",
    "a.extend(b)\n",
    "print(a)  \n",
    "\n",
    "# Using a string\n",
    "a = ['a', 'b']\n",
    "b = \"cd\"\n",
    "a.extend(b)\n",
    "print(a)  \n"
   ]
  },
  {
   "cell_type": "markdown",
   "id": "9b95b516",
   "metadata": {},
   "source": [
    "# Python List index() – Find Index of Item"
   ]
  },
  {
   "cell_type": "code",
   "execution_count": 14,
   "id": "8226a6b7",
   "metadata": {},
   "outputs": [
    {
     "name": "stdout",
     "output_type": "stream",
     "text": [
      "1\n"
     ]
    }
   ],
   "source": [
    "a = [\"cat\", \"dog\", \"tiger\"]\n",
    "\n",
    "print(a.index(\"dog\"))"
   ]
  },
  {
   "cell_type": "code",
   "execution_count": 15,
   "id": "da9dd383",
   "metadata": {},
   "outputs": [],
   "source": [
    "# list index() method searches for a given element from the start of the list and returns the position of the first occurrence."
   ]
  },
  {
   "cell_type": "code",
   "execution_count": 19,
   "id": "8baa35c5",
   "metadata": {},
   "outputs": [
    {
     "name": "stdout",
     "output_type": "stream",
     "text": [
      "4\n"
     ]
    }
   ],
   "source": [
    "a = [10, 20, 30, 40, 50, 60, 70, 80, 90]\n",
    "\n",
    "# Find the index of 50 between index positions 4 and 8\n",
    "res = a.index(50, 4, 8)\n",
    "print(res)\n"
   ]
  },
  {
   "cell_type": "markdown",
   "id": "a70204b3",
   "metadata": {},
   "source": [
    "# Working of the Index with the Element not Present in the List"
   ]
  },
  {
   "cell_type": "code",
   "execution_count": 23,
   "id": "33eead44",
   "metadata": {},
   "outputs": [
    {
     "name": "stdout",
     "output_type": "stream",
     "text": [
      "yellow is not in the list\n"
     ]
    }
   ],
   "source": [
    "a = ['red','green','blue']\n",
    "\n",
    "try:\n",
    "   index =  a.index('yellow')\n",
    "   print(a)\n",
    "except ValueError:\n",
    "    print(\"yellow is not in the list\")"
   ]
  },
  {
   "cell_type": "markdown",
   "id": "afaaf629",
   "metadata": {},
   "source": [
    "# Python list max() function returns the maximum value present in the list."
   ]
  },
  {
   "cell_type": "code",
   "execution_count": 24,
   "id": "43fe42df",
   "metadata": {},
   "outputs": [
    {
     "name": "stdout",
     "output_type": "stream",
     "text": [
      "9\n"
     ]
    }
   ],
   "source": [
    "rand = [7,8,9,0,5,4,3,6,2,1]\n",
    "print(max(rand))"
   ]
  },
  {
   "cell_type": "code",
   "execution_count": 26,
   "id": "84433149",
   "metadata": {},
   "outputs": [
    {
     "name": "stdout",
     "output_type": "stream",
     "text": [
      "69\n"
     ]
    }
   ],
   "source": [
    "#creating a list\n",
    "number = [54,67,12,33,69,32]\n",
    "#printing max element\n",
    "print(max(number))\n"
   ]
  },
  {
   "cell_type": "markdown",
   "id": "87a85af2",
   "metadata": {},
   "source": [
    "# Python min() Function"
   ]
  },
  {
   "cell_type": "code",
   "execution_count": 27,
   "id": "269239d6",
   "metadata": {},
   "outputs": [
    {
     "name": "stdout",
     "output_type": "stream",
     "text": [
      "21\n"
     ]
    }
   ],
   "source": [
    "numbers = [23,25,65,21,98]\n",
    "print(min(numbers))\n"
   ]
  },
  {
   "cell_type": "code",
   "execution_count": 28,
   "id": "1fefdb60",
   "metadata": {},
   "outputs": [
    {
     "name": "stdout",
     "output_type": "stream",
     "text": [
      "The smallest number is: 2\n"
     ]
    }
   ],
   "source": [
    "numbers = [3, 2, 8, 5, 10, 6]\n",
    "small = min(numbers);\n",
    "\n",
    "print(\"The smallest number is:\", small)\n"
   ]
  },
  {
   "cell_type": "code",
   "execution_count": 29,
   "id": "c93f7141",
   "metadata": {},
   "outputs": [
    {
     "name": "stdout",
     "output_type": "stream",
     "text": [
      "The smallest string is: C Programming\n"
     ]
    }
   ],
   "source": [
    "languages = [\"Python\", \"C Programming\", \"Java\", \"JavaScript\",'PHP','Kotlin']\n",
    "small = min(languages)\n",
    "print(\"The smallest string is:\", small)\n"
   ]
  },
  {
   "cell_type": "markdown",
   "id": "3602d162",
   "metadata": {},
   "source": [
    "# How To Find the Length of a List in Python"
   ]
  },
  {
   "cell_type": "code",
   "execution_count": 33,
   "id": "18bcf515",
   "metadata": {},
   "outputs": [
    {
     "name": "stdout",
     "output_type": "stream",
     "text": [
      "5\n"
     ]
    }
   ],
   "source": [
    "a = [1,2,3,4,5]\n",
    "length = len(a)\n",
    "print(length)"
   ]
  },
  {
   "cell_type": "code",
   "execution_count": null,
   "id": "975a3dac",
   "metadata": {},
   "outputs": [],
   "source": []
  }
 ],
 "metadata": {
  "kernelspec": {
   "display_name": "Python 3 (ipykernel)",
   "language": "python",
   "name": "python3"
  },
  "language_info": {
   "codemirror_mode": {
    "name": "ipython",
    "version": 3
   },
   "file_extension": ".py",
   "mimetype": "text/x-python",
   "name": "python",
   "nbconvert_exporter": "python",
   "pygments_lexer": "ipython3",
   "version": "3.9.12"
  }
 },
 "nbformat": 4,
 "nbformat_minor": 5
}
