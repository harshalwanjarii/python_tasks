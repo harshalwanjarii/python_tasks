{
 "cells": [
  {
   "cell_type": "markdown",
   "id": "caa9ed94",
   "metadata": {},
   "source": [
    "# heading1\n",
    "## heading2\n",
    "### heading3\n",
    "#### heading4"
   ]
  },
  {
   "cell_type": "code",
   "execution_count": 9,
   "id": "41c7f38e",
   "metadata": {},
   "outputs": [
    {
     "ename": "SyntaxError",
     "evalue": "invalid syntax (1569535622.py, line 1)",
     "output_type": "error",
     "traceback": [
      "\u001b[1;36m  Input \u001b[1;32mIn [9]\u001b[1;36m\u001b[0m\n\u001b[1;33m    <div>\u001b[0m\n\u001b[1;37m    ^\u001b[0m\n\u001b[1;31mSyntaxError\u001b[0m\u001b[1;31m:\u001b[0m invalid syntax\n"
     ]
    }
   ],
   "source": [
    "<div>\n",
    " <b> Tip:this is how you use colored note boxes to show important notes and tips. </b>\n",
    "</div>"
   ]
  },
  {
   "cell_type": "markdown",
   "id": "ed848672",
   "metadata": {},
   "source": [
    "# Main Title (H1)"
   ]
  },
  {
   "cell_type": "markdown",
   "id": "4c2aa6e0",
   "metadata": {},
   "source": [
    "This is **bold text**"
   ]
  },
  {
   "cell_type": "markdown",
   "id": "4eef8970",
   "metadata": {},
   "source": [
    "**bold text**"
   ]
  },
  {
   "cell_type": "markdown",
   "id": "de55dfdb",
   "metadata": {},
   "source": [
    "This is *italic text*"
   ]
  },
  {
   "cell_type": "markdown",
   "id": "407bf257",
   "metadata": {},
   "source": [
    "*italic text*"
   ]
  },
  {
   "cell_type": "markdown",
   "id": "eaf29365",
   "metadata": {},
   "source": [
    "- Item 1"
   ]
  },
  {
   "cell_type": "markdown",
   "id": "90bc19d0",
   "metadata": {},
   "source": [
    "- Item 1\n",
    "- Item 2\n",
    "  - Sub-item 2.1\n",
    "  - Sub-item 2.2\n",
    "- Item 3"
   ]
  },
  {
   "cell_type": "markdown",
   "id": "4ea6caef",
   "metadata": {},
   "source": []
  },
  {
   "cell_type": "markdown",
   "id": "d832f411",
   "metadata": {},
   "source": [
    "**order list**\n",
    "1. first order\n",
    "2. second order\n",
    "  1.1 sub order\n",
    "    1.2 sub order\n",
    "3. third order    "
   ]
  },
  {
   "cell_type": "markdown",
   "id": "4b9d6d4b",
   "metadata": {},
   "source": [
    "**Ordered List:**\n",
    "1. First item\n",
    "2. Second item\n",
    "3. Third item\n",
    "   1. Sub-item 3.1\n",
    "   2. Sub-item 3.2"
   ]
  },
  {
   "cell_type": "markdown",
   "id": "8f452ab2",
   "metadata": {},
   "source": [
    "'print(\"hello, world!\")'"
   ]
  },
  {
   "cell_type": "markdown",
   "id": "281624dc",
   "metadata": {},
   "source": [
    "'print(\"hello, world!\")'"
   ]
  },
  {
   "cell_type": "markdown",
   "id": "50fb84b4",
   "metadata": {},
   "source": [
    "```python\n",
    "# Code block:\n",
    "def my_function(x):\n",
    "    return x * 2\n",
    "\n",
    "print(my_function(5))"
   ]
  },
  {
   "cell_type": "markdown",
   "id": "8db82a34",
   "metadata": {},
   "source": [
    "**5. Links:**\n",
    "\n",
    "```markdown\n",
    "[Link to Google](https://www.google.com)\n",
    "[Link with title](https://www.google.com \"Google's Homepage\")\n",
    "<https://www.example.com> # Automatically linked"
   ]
  },
  {
   "cell_type": "markdown",
   "id": "ef1a5de8",
   "metadata": {},
   "source": [
    "**5. Links:**\n",
    "\n",
    "[Link to Google](https://www.google.com)\n",
    "[Link with title](https://www.google.com \"Google's Homepage\")\n",
    "<https://www.example.com>"
   ]
  },
  {
   "cell_type": "markdown",
   "id": "36f6d77e",
   "metadata": {},
   "source": [
    "> This is a blockquote.\n",
    "> It can span multiple lines.\n",
    ">\n",
    "> Another blockquote here."
   ]
  },
  {
   "cell_type": "markdown",
   "id": "f444d20e",
   "metadata": {},
   "source": [
    "| Header 1 | Header 2 | Header 3 |\n",
    "| -------- | -------- | -------- |\n",
    "| Cell 1   | Cell 2   | Cell 3   |\n",
    "| Cell 4   | Cell 5   | Cell 6   |"
   ]
  },
  {
   "cell_type": "code",
   "execution_count": null,
   "id": "f8cb7c15",
   "metadata": {},
   "outputs": [],
   "source": []
  }
 ],
 "metadata": {
  "kernelspec": {
   "display_name": "Python 3 (ipykernel)",
   "language": "python",
   "name": "python3"
  },
  "language_info": {
   "codemirror_mode": {
    "name": "ipython",
    "version": 3
   },
   "file_extension": ".py",
   "mimetype": "text/x-python",
   "name": "python",
   "nbconvert_exporter": "python",
   "pygments_lexer": "ipython3",
   "version": "3.9.12"
  }
 },
 "nbformat": 4,
 "nbformat_minor": 5
}
